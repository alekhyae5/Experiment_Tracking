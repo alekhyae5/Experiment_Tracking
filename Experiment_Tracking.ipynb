{
 "cells": [
  {
   "cell_type": "code",
   "execution_count": 1,
   "id": "e6b94f56",
   "metadata": {},
   "outputs": [],
   "source": [
    "import pandas as pd\n",
    "import numpy as np\n",
    "import matplotlib.pyplot as plt\n",
    "import seaborn as sns"
   ]
  },
  {
   "cell_type": "code",
   "execution_count": 2,
   "id": "121542e2",
   "metadata": {},
   "outputs": [],
   "source": [
    "df=pd.read_csv('tips.csv')"
   ]
  },
  {
   "cell_type": "code",
   "execution_count": 3,
   "id": "85f6d441",
   "metadata": {
    "scrolled": true
   },
   "outputs": [
    {
     "data": {
      "text/html": [
       "<div>\n",
       "<style scoped>\n",
       "    .dataframe tbody tr th:only-of-type {\n",
       "        vertical-align: middle;\n",
       "    }\n",
       "\n",
       "    .dataframe tbody tr th {\n",
       "        vertical-align: top;\n",
       "    }\n",
       "\n",
       "    .dataframe thead th {\n",
       "        text-align: right;\n",
       "    }\n",
       "</style>\n",
       "<table border=\"1\" class=\"dataframe\">\n",
       "  <thead>\n",
       "    <tr style=\"text-align: right;\">\n",
       "      <th></th>\n",
       "      <th>total_bill</th>\n",
       "      <th>tip</th>\n",
       "      <th>sex</th>\n",
       "      <th>smoker</th>\n",
       "      <th>day</th>\n",
       "      <th>time</th>\n",
       "      <th>size</th>\n",
       "    </tr>\n",
       "  </thead>\n",
       "  <tbody>\n",
       "    <tr>\n",
       "      <th>0</th>\n",
       "      <td>16.99</td>\n",
       "      <td>1.01</td>\n",
       "      <td>Female</td>\n",
       "      <td>No</td>\n",
       "      <td>Sun</td>\n",
       "      <td>Dinner</td>\n",
       "      <td>2</td>\n",
       "    </tr>\n",
       "    <tr>\n",
       "      <th>1</th>\n",
       "      <td>10.34</td>\n",
       "      <td>1.66</td>\n",
       "      <td>Male</td>\n",
       "      <td>No</td>\n",
       "      <td>Sun</td>\n",
       "      <td>Dinner</td>\n",
       "      <td>3</td>\n",
       "    </tr>\n",
       "    <tr>\n",
       "      <th>2</th>\n",
       "      <td>21.01</td>\n",
       "      <td>3.50</td>\n",
       "      <td>Male</td>\n",
       "      <td>No</td>\n",
       "      <td>Sun</td>\n",
       "      <td>Dinner</td>\n",
       "      <td>3</td>\n",
       "    </tr>\n",
       "    <tr>\n",
       "      <th>3</th>\n",
       "      <td>23.68</td>\n",
       "      <td>3.31</td>\n",
       "      <td>Male</td>\n",
       "      <td>No</td>\n",
       "      <td>Sun</td>\n",
       "      <td>Dinner</td>\n",
       "      <td>2</td>\n",
       "    </tr>\n",
       "    <tr>\n",
       "      <th>4</th>\n",
       "      <td>24.59</td>\n",
       "      <td>3.61</td>\n",
       "      <td>Female</td>\n",
       "      <td>No</td>\n",
       "      <td>Sun</td>\n",
       "      <td>Dinner</td>\n",
       "      <td>4</td>\n",
       "    </tr>\n",
       "  </tbody>\n",
       "</table>\n",
       "</div>"
      ],
      "text/plain": [
       "   total_bill   tip     sex smoker  day    time  size\n",
       "0       16.99  1.01  Female     No  Sun  Dinner     2\n",
       "1       10.34  1.66    Male     No  Sun  Dinner     3\n",
       "2       21.01  3.50    Male     No  Sun  Dinner     3\n",
       "3       23.68  3.31    Male     No  Sun  Dinner     2\n",
       "4       24.59  3.61  Female     No  Sun  Dinner     4"
      ]
     },
     "execution_count": 3,
     "metadata": {},
     "output_type": "execute_result"
    }
   ],
   "source": [
    "df.head()"
   ]
  },
  {
   "cell_type": "code",
   "execution_count": 4,
   "id": "0cd1c197",
   "metadata": {},
   "outputs": [
    {
     "data": {
      "text/plain": [
       "(244, 7)"
      ]
     },
     "execution_count": 4,
     "metadata": {},
     "output_type": "execute_result"
    }
   ],
   "source": [
    "df.shape"
   ]
  },
  {
   "cell_type": "code",
   "execution_count": 5,
   "id": "ad43221b",
   "metadata": {},
   "outputs": [
    {
     "name": "stdout",
     "output_type": "stream",
     "text": [
      "<class 'pandas.core.frame.DataFrame'>\n",
      "RangeIndex: 244 entries, 0 to 243\n",
      "Data columns (total 7 columns):\n",
      " #   Column      Non-Null Count  Dtype  \n",
      "---  ------      --------------  -----  \n",
      " 0   total_bill  244 non-null    float64\n",
      " 1   tip         244 non-null    float64\n",
      " 2   sex         244 non-null    object \n",
      " 3   smoker      244 non-null    object \n",
      " 4   day         244 non-null    object \n",
      " 5   time        244 non-null    object \n",
      " 6   size        244 non-null    int64  \n",
      "dtypes: float64(2), int64(1), object(4)\n",
      "memory usage: 13.5+ KB\n"
     ]
    }
   ],
   "source": [
    "df.info()"
   ]
  },
  {
   "cell_type": "code",
   "execution_count": 6,
   "id": "a1cf1f48",
   "metadata": {},
   "outputs": [
    {
     "data": {
      "text/plain": [
       "total_bill    0\n",
       "tip           0\n",
       "sex           0\n",
       "smoker        0\n",
       "day           0\n",
       "time          0\n",
       "size          0\n",
       "dtype: int64"
      ]
     },
     "execution_count": 6,
     "metadata": {},
     "output_type": "execute_result"
    }
   ],
   "source": [
    "df.isnull().sum()"
   ]
  },
  {
   "cell_type": "code",
   "execution_count": 7,
   "id": "4fdad1d3",
   "metadata": {},
   "outputs": [
    {
     "data": {
      "text/plain": [
       "Index(['total_bill', 'tip', 'sex', 'smoker', 'day', 'time', 'size'], dtype='object')"
      ]
     },
     "execution_count": 7,
     "metadata": {},
     "output_type": "execute_result"
    }
   ],
   "source": [
    "df.columns"
   ]
  },
  {
   "cell_type": "code",
   "execution_count": 8,
   "id": "155a040c",
   "metadata": {},
   "outputs": [
    {
     "data": {
      "text/html": [
       "<div>\n",
       "<style scoped>\n",
       "    .dataframe tbody tr th:only-of-type {\n",
       "        vertical-align: middle;\n",
       "    }\n",
       "\n",
       "    .dataframe tbody tr th {\n",
       "        vertical-align: top;\n",
       "    }\n",
       "\n",
       "    .dataframe thead th {\n",
       "        text-align: right;\n",
       "    }\n",
       "</style>\n",
       "<table border=\"1\" class=\"dataframe\">\n",
       "  <thead>\n",
       "    <tr style=\"text-align: right;\">\n",
       "      <th></th>\n",
       "      <th>total_bill</th>\n",
       "      <th>tip</th>\n",
       "      <th>size</th>\n",
       "    </tr>\n",
       "  </thead>\n",
       "  <tbody>\n",
       "    <tr>\n",
       "      <th>count</th>\n",
       "      <td>244.000000</td>\n",
       "      <td>244.000000</td>\n",
       "      <td>244.000000</td>\n",
       "    </tr>\n",
       "    <tr>\n",
       "      <th>mean</th>\n",
       "      <td>19.785943</td>\n",
       "      <td>2.998279</td>\n",
       "      <td>2.569672</td>\n",
       "    </tr>\n",
       "    <tr>\n",
       "      <th>std</th>\n",
       "      <td>8.902412</td>\n",
       "      <td>1.383638</td>\n",
       "      <td>0.951100</td>\n",
       "    </tr>\n",
       "    <tr>\n",
       "      <th>min</th>\n",
       "      <td>3.070000</td>\n",
       "      <td>1.000000</td>\n",
       "      <td>1.000000</td>\n",
       "    </tr>\n",
       "    <tr>\n",
       "      <th>25%</th>\n",
       "      <td>13.347500</td>\n",
       "      <td>2.000000</td>\n",
       "      <td>2.000000</td>\n",
       "    </tr>\n",
       "    <tr>\n",
       "      <th>50%</th>\n",
       "      <td>17.795000</td>\n",
       "      <td>2.900000</td>\n",
       "      <td>2.000000</td>\n",
       "    </tr>\n",
       "    <tr>\n",
       "      <th>75%</th>\n",
       "      <td>24.127500</td>\n",
       "      <td>3.562500</td>\n",
       "      <td>3.000000</td>\n",
       "    </tr>\n",
       "    <tr>\n",
       "      <th>max</th>\n",
       "      <td>50.810000</td>\n",
       "      <td>10.000000</td>\n",
       "      <td>6.000000</td>\n",
       "    </tr>\n",
       "  </tbody>\n",
       "</table>\n",
       "</div>"
      ],
      "text/plain": [
       "       total_bill         tip        size\n",
       "count  244.000000  244.000000  244.000000\n",
       "mean    19.785943    2.998279    2.569672\n",
       "std      8.902412    1.383638    0.951100\n",
       "min      3.070000    1.000000    1.000000\n",
       "25%     13.347500    2.000000    2.000000\n",
       "50%     17.795000    2.900000    2.000000\n",
       "75%     24.127500    3.562500    3.000000\n",
       "max     50.810000   10.000000    6.000000"
      ]
     },
     "execution_count": 8,
     "metadata": {},
     "output_type": "execute_result"
    }
   ],
   "source": [
    "df.describe()"
   ]
  },
  {
   "cell_type": "code",
   "execution_count": 9,
   "id": "0b1c65d2",
   "metadata": {},
   "outputs": [
    {
     "data": {
      "text/plain": [
       "<Axes: >"
      ]
     },
     "execution_count": 9,
     "metadata": {},
     "output_type": "execute_result"
    },
    {
     "data": {
      "image/png": "[encoded data removed]",
      "text/plain": [
       "<Figure size 640x480 with 1 Axes>"
      ]
     },
     "metadata": {},
     "output_type": "display_data"
    }
   ],
   "source": [
    "df['tip'].plot(kind='box')"
   ]
  },
  {
   "cell_type": "code",
   "execution_count": 10,
   "id": "281647ef",
   "metadata": {},
   "outputs": [
    {
     "data": {
      "text/plain": [
       "<Axes: >"
      ]
     },
     "execution_count": 10,
     "metadata": {},
     "output_type": "execute_result"
    },
    {
     "data": {
      "image/png": "[encoded data removed]",
      "text/plain": [
       "<Figure size 640x480 with 1 Axes>"
      ]
     },
     "metadata": {},
     "output_type": "display_data"
    }
   ],
   "source": [
    "df['total_bill'].plot(kind='box')"
   ]
  },
  {
   "cell_type": "code",
   "execution_count": 11,
   "id": "0bec20f5",
   "metadata": {},
   "outputs": [
    {
     "data": {
      "text/plain": [
       "<Axes: >"
      ]
     },
     "execution_count": 11,
     "metadata": {},
     "output_type": "execute_result"
    },
    {
     "data": {
      "image/png": "[encoded data removed]",
      "text/plain": [
       "<Figure size 640x480 with 1 Axes>"
      ]
     },
     "metadata": {},
     "output_type": "display_data"
    }
   ],
   "source": [
    "df['sex'].value_counts().plot(kind='bar')"
   ]
  },
  {
   "cell_type": "code",
   "execution_count": 12,
   "id": "98d9dcd6",
   "metadata": {},
   "outputs": [
    {
     "data": {
      "text/plain": [
       "<Axes: >"
      ]
     },
     "execution_count": 12,
     "metadata": {},
     "output_type": "execute_result"
    },
    {
     "data": {
      "image/png": "[encoded data removed]",
      "text/plain": [
       "<Figure size 640x480 with 1 Axes>"
      ]
     },
     "metadata": {},
     "output_type": "display_data"
    }
   ],
   "source": [
    "df['day'].value_counts().plot(kind='bar')"
   ]
  },
  {
   "cell_type": "code",
   "execution_count": 13,
   "id": "b750a60b",
   "metadata": {},
   "outputs": [
    {
     "data": {
      "text/plain": [
       "<Axes: >"
      ]
     },
     "execution_count": 13,
     "metadata": {},
     "output_type": "execute_result"
    },
    {
     "data": {
      "image/png": "[encoded data removed]",
      "text/plain": [
       "<Figure size 640x480 with 1 Axes>"
      ]
     },
     "metadata": {},
     "output_type": "display_data"
    }
   ],
   "source": [
    "df['smoker'].value_counts().plot(kind='bar')"
   ]
  },
  {
   "cell_type": "code",
   "execution_count": 14,
   "id": "5881abc0",
   "metadata": {},
   "outputs": [
    {
     "data": {
      "text/plain": [
       "<Axes: >"
      ]
     },
     "execution_count": 14,
     "metadata": {},
     "output_type": "execute_result"
    },
    {
     "data": {
      "image/png": "[encoded data removed]",
      "text/plain": [
       "<Figure size 640x480 with 1 Axes>"
      ]
     },
     "metadata": {},
     "output_type": "display_data"
    }
   ],
   "source": [
    "df['time'].value_counts().plot(kind='bar')"
   ]
  },
  {
   "cell_type": "code",
   "execution_count": 15,
   "id": "380fbfda",
   "metadata": {},
   "outputs": [
    {
     "data": {
      "text/plain": [
       "<Axes: xlabel='total_bill', ylabel='tip'>"
      ]
     },
     "execution_count": 15,
     "metadata": {},
     "output_type": "execute_result"
    },
    {
     "data": {
      "image/png": "[encoded data removed]",
      "text/plain": [
       "<Figure size 640x480 with 1 Axes>"
      ]
     },
     "metadata": {},
     "output_type": "display_data"
    }
   ],
   "source": [
    "sns.scatterplot(x='total_bill',y='tip',data=df)"
   ]
  },
  {
   "cell_type": "code",
   "execution_count": 16,
   "id": "a5f37a53",
   "metadata": {},
   "outputs": [],
   "source": [
    "X=df.drop('tip',axis=1)\n",
    "y=df['tip']"
   ]
  },
  {
   "cell_type": "markdown",
   "id": "860162ce",
   "metadata": {},
   "source": [
    "**Train Test Split**"
   ]
  },
  {
   "cell_type": "code",
   "execution_count": 17,
   "id": "b2d608f4",
   "metadata": {},
   "outputs": [],
   "source": [
    "from sklearn.model_selection import train_test_split\n",
    "X_train, X_test, y_train, y_test = train_test_split(X, y, test_size = 0.2, random_state = 0)"
   ]
  },
  {
   "cell_type": "markdown",
   "id": "0a5a39d4",
   "metadata": {},
   "source": [
    "**Preparing Training Data**"
   ]
  },
  {
   "cell_type": "code",
   "execution_count": 18,
   "id": "847ea0d6",
   "metadata": {},
   "outputs": [
    {
     "data": {
      "text/plain": [
       "array([[0., 1., 1., ..., 0., 1., 0.],\n",
       "       [0., 1., 0., ..., 1., 0., 1.],\n",
       "       [0., 1., 0., ..., 0., 1., 0.],\n",
       "       ...,\n",
       "       [1., 0., 1., ..., 1., 0., 1.],\n",
       "       [0., 1., 1., ..., 0., 1., 0.],\n",
       "       [0., 1., 0., ..., 0., 1., 0.]])"
      ]
     },
     "execution_count": 18,
     "metadata": {},
     "output_type": "execute_result"
    }
   ],
   "source": [
    "from sklearn.preprocessing import OneHotEncoder,StandardScaler\n",
    "cat_col=['sex','smoker','day','time']\n",
    "ohe=OneHotEncoder(handle_unknown = 'ignore')\n",
    "X_train_cat_tf=ohe.fit_transform(X_train[cat_col]).toarray()\n",
    "X_train_cat_tf"
   ]
  },
  {
   "cell_type": "code",
   "execution_count": 19,
   "id": "d6d2b7ed",
   "metadata": {},
   "outputs": [
    {
     "data": {
      "text/plain": [
       "array([[ 7.32409144e-01,  1.48790007e+00],\n",
       "       [ 1.36827467e+00, -6.22212755e-01],\n",
       "       [-2.53182426e-01, -6.22212755e-01],\n",
       "       [ 3.18607423e-02, -6.22212755e-01],\n",
       "       [ 3.06647416e+00,  3.59801289e+00],\n",
       "       [-1.16203160e+00, -6.22212755e-01],\n",
       "       [-8.95625874e-01, -6.22212755e-01],\n",
       "       [ 1.06678671e+00,  1.48790007e+00],\n",
       "       [ 5.37871398e-02,  1.48790007e+00],\n",
       "       [-6.51146542e-01, -6.22212755e-01],\n",
       "       [-8.26557722e-01, -6.22212755e-01],\n",
       "       [ 7.76261939e-01, -6.22212755e-01],\n",
       "       [-4.81216960e-01, -6.22212755e-01],\n",
       "       [ 1.05314174e-01, -6.22212755e-01],\n",
       "       [ 5.26301007e-01,  1.48790007e+00],\n",
       "       [ 1.08980942e+00,  1.48790007e+00],\n",
       "       [-5.11913917e-01, -6.22212755e-01],\n",
       "       [-4.08859849e-01,  4.32843655e-01],\n",
       "       [ 1.38471947e+00, -6.22212755e-01],\n",
       "       [-1.08200025e+00,  4.32843655e-01],\n",
       "       [ 9.61539999e-01, -6.22212755e-01],\n",
       "       [-5.28358715e-01, -6.22212755e-01],\n",
       "       [-1.06226650e+00, -6.22212755e-01],\n",
       "       [ 4.81351892e-01,  1.48790007e+00],\n",
       "       [-6.45664942e-01, -6.22212755e-01],\n",
       "       [-7.00480936e-01, -6.22212755e-01],\n",
       "       [-1.70958435e-01,  4.32843655e-01],\n",
       "       [ 1.60179081e+00,  1.48790007e+00],\n",
       "       [-4.11052488e-01, -6.22212755e-01],\n",
       "       [-7.48719011e-01, -6.22212755e-01],\n",
       "       [-2.12618590e-01, -6.22212755e-01],\n",
       "       [-1.28153047e+00, -6.22212755e-01],\n",
       "       [-9.43863949e-01, -6.22212755e-01],\n",
       "       [-4.56001603e-01,  4.32843655e-01],\n",
       "       [-1.93981153e-01,  1.48790007e+00],\n",
       "       [ 3.81586783e-01, -6.22212755e-01],\n",
       "       [-3.22250578e-01,  4.32843655e-01],\n",
       "       [-4.15926895e-02, -6.22212755e-01],\n",
       "       [-1.16751320e+00, -6.22212755e-01],\n",
       "       [-1.36594710e+00, -6.22212755e-01],\n",
       "       [ 9.93434474e-03, -6.22212755e-01],\n",
       "       [ 1.95261317e+00,  1.48790007e+00],\n",
       "       [ 1.58205705e+00, -6.22212755e-01],\n",
       "       [ 8.73834408e-01,  4.32843655e-01],\n",
       "       [ 4.94018603e-02,  4.32843655e-01],\n",
       "       [ 2.75731196e+00,  4.32843655e-01],\n",
       "       [ 2.87303274e-01,  4.32843655e-01],\n",
       "       [ 5.87694920e-01,  1.48790007e+00],\n",
       "       [ 1.71361543e+00,  4.32843655e-01],\n",
       "       [-8.32528449e-02, -6.22212755e-01],\n",
       "       [-1.08638553e+00, -6.22212755e-01],\n",
       "       [-4.65868482e-01, -6.22212755e-01],\n",
       "       [-8.17787163e-01, -6.22212755e-01],\n",
       "       [-1.22720360e-01, -6.22212755e-01],\n",
       "       [-7.85993886e-01, -6.22212755e-01],\n",
       "       [-1.08857817e+00, -6.22212755e-01],\n",
       "       [-6.63206060e-01, -6.22212755e-01],\n",
       "       [ 1.27728012e+00, -6.22212755e-01],\n",
       "       [-1.28043415e+00, -6.22212755e-01],\n",
       "       [-3.00324181e-01, -6.22212755e-01],\n",
       "       [-5.88656309e-01, -6.22212755e-01],\n",
       "       [-8.23268762e-01, -6.22212755e-01],\n",
       "       [-8.39713561e-01, -6.22212755e-01],\n",
       "       [-7.43237411e-01, -6.22212755e-01],\n",
       "       [-2.49893466e-01, -6.22212755e-01],\n",
       "       [-4.37364165e-01,  4.32843655e-01],\n",
       "       [ 2.22620401e-01, -6.22212755e-01],\n",
       "       [ 6.14613790e-02, -6.22212755e-01],\n",
       "       [ 9.68117918e-01,  4.32843655e-01],\n",
       "       [ 1.42589050e-01,  1.48790007e+00],\n",
       "       [ 3.35590261e+00,  4.32843655e-01],\n",
       "       [-1.00635418e+00, -6.22212755e-01],\n",
       "       [-4.94372799e-01, -6.22212755e-01],\n",
       "       [-4.06667209e-01,  1.48790007e+00],\n",
       "       [ 8.88693759e-02,  4.32843655e-01],\n",
       "       [ 3.07743736e+00,  1.48790007e+00],\n",
       "       [-1.39116246e+00, -6.22212755e-01],\n",
       "       [ 2.74754628e-02,  1.48790007e+00],\n",
       "       [-1.15326105e+00, -6.22212755e-01],\n",
       "       [-4.26890094e-02, -6.22212755e-01],\n",
       "       [-7.71741728e-01, -6.22212755e-01],\n",
       "       [-4.70742889e-02,  1.48790007e+00],\n",
       "       [ 1.95919109e+00,  4.32843655e-01],\n",
       "       [ 7.00615868e-01,  4.32843655e-01],\n",
       "       [ 8.88693759e-02, -6.22212755e-01],\n",
       "       [ 4.76966613e-01,  1.48790007e+00],\n",
       "       [-4.25304647e-01, -6.22212755e-01],\n",
       "       [-4.13245128e-01, -6.22212755e-01],\n",
       "       [-1.03376218e+00, -6.22212755e-01],\n",
       "       [ 4.11187420e-01, -6.22212755e-01],\n",
       "       [-3.51851215e-01, -6.22212755e-01],\n",
       "       [ 2.79629035e-01, -6.22212755e-01],\n",
       "       [ 2.18941826e+00,  1.48790007e+00],\n",
       "       [-5.68922551e-01, -6.22212755e-01],\n",
       "       [-2.36737628e-01, -6.22212755e-01],\n",
       "       [ 9.15494564e-01,  4.32843655e-01],\n",
       "       [ 1.60398345e+00,  1.48790007e+00],\n",
       "       [ 2.70858476e-01, -6.22212755e-01],\n",
       "       [ 1.54587849e+00,  3.59801289e+00],\n",
       "       [ 2.10719427e+00,  1.48790007e+00],\n",
       "       [-8.00246045e-01, -6.22212755e-01],\n",
       "       [ 7.51046582e-01,  3.59801289e+00],\n",
       "       [ 2.80725355e-01, -6.22212755e-01],\n",
       "       [-9.70175626e-01, -6.22212755e-01],\n",
       "       [ 7.74170498e-03, -6.22212755e-01],\n",
       "       [-1.08090393e+00, -6.22212755e-01],\n",
       "       [-2.60856665e-01, -6.22212755e-01],\n",
       "       [-1.25302615e+00, -6.22212755e-01],\n",
       "       [ 3.35642547e-03, -6.22212755e-01],\n",
       "       [-4.62579523e-01, -6.22212755e-01],\n",
       "       [-7.43237411e-01, -6.22212755e-01],\n",
       "       [-7.58585890e-01, -6.22212755e-01],\n",
       "       [ 2.23107842e+00, -6.22212755e-01],\n",
       "       [ 2.03154820e+00,  1.48790007e+00],\n",
       "       [-7.89282846e-01, -6.22212755e-01],\n",
       "       [ 7.68098573e-02,  4.32843655e-01],\n",
       "       [ 2.51124718e-01, -6.22212755e-01],\n",
       "       [-7.59682209e-01, -6.22212755e-01],\n",
       "       [ 1.65112520e+00,  1.48790007e+00],\n",
       "       [ 4.25439578e-01,  1.48790007e+00],\n",
       "       [ 2.64219837e+00,  4.32843655e-01],\n",
       "       [ 4.23246939e-01,  4.32843655e-01],\n",
       "       [ 6.80882110e-01, -6.22212755e-01],\n",
       "       [-1.04911066e+00, -6.22212755e-01],\n",
       "       [-1.30883727e-02,  4.32843655e-01],\n",
       "       [-1.08090393e+00,  4.32843655e-01],\n",
       "       [-9.32900750e-01, -6.22212755e-01],\n",
       "       [-3.96800330e-01, -6.22212755e-01],\n",
       "       [-6.86228778e-01, -6.22212755e-01],\n",
       "       [-5.30551355e-01, -6.22212755e-01],\n",
       "       [-9.89909384e-01, -6.22212755e-01],\n",
       "       [-1.11050457e+00, -6.22212755e-01],\n",
       "       [-4.28593606e-01,  4.32843655e-01],\n",
       "       [-1.65476836e-01,  4.32843655e-01],\n",
       "       [-8.70410517e-01, -6.22212755e-01],\n",
       "       [-1.12475673e+00, -6.22212755e-01],\n",
       "       [-2.94842581e-01, -6.22212755e-01],\n",
       "       [ 1.12489166e+00,  2.54295648e+00],\n",
       "       [-9.66886666e-01, -6.22212755e-01],\n",
       "       [-2.65241945e-01, -6.22212755e-01],\n",
       "       [ 1.64515447e-01, -6.22212755e-01],\n",
       "       [ 3.25674470e-01,  1.48790007e+00],\n",
       "       [ 6.04139718e-01,  4.32843655e-01],\n",
       "       [-7.00480936e-01, -6.22212755e-01],\n",
       "       [-7.75030688e-01, -6.22212755e-01],\n",
       "       [-2.02751712e-01,  1.48790007e+00],\n",
       "       [-1.63284196e-01,  4.32843655e-01],\n",
       "       [-6.22642225e-01, -6.22212755e-01],\n",
       "       [ 5.37871398e-02,  2.54295648e+00],\n",
       "       [ 4.17765339e-01,  1.48790007e+00],\n",
       "       [-1.10831193e+00, -6.22212755e-01],\n",
       "       [-5.63440951e-01, -6.22212755e-01],\n",
       "       [ 1.26193165e+00,  1.48790007e+00],\n",
       "       [ 2.30124289e+00,  2.54295648e+00],\n",
       "       [ 3.62460218e-02,  1.48790007e+00],\n",
       "       [-9.13166992e-01, -6.22212755e-01],\n",
       "       [-6.02301274e-02, -6.22212755e-01],\n",
       "       [-6.27027504e-01, -6.22212755e-01],\n",
       "       [-8.48484120e-01, -6.22212755e-01],\n",
       "       [-1.11050457e+00, -1.67726916e+00],\n",
       "       [ 7.65298740e-01, -6.22212755e-01],\n",
       "       [ 1.39239371e+00, -6.22212755e-01],\n",
       "       [-3.18961619e-01, -6.22212755e-01],\n",
       "       [ 2.51173631e+00,  1.48790007e+00],\n",
       "       [ 4.46269656e-01, -6.22212755e-01],\n",
       "       [-3.16768979e-01, -6.22212755e-01],\n",
       "       [-1.14229785e+00, -6.22212755e-01],\n",
       "       [-8.33135641e-01, -6.22212755e-01],\n",
       "       [ 7.30216504e-01, -6.22212755e-01],\n",
       "       [ 7.67491380e-01,  1.48790007e+00],\n",
       "       [-2.61952985e-01,  1.48790007e+00],\n",
       "       [ 4.73677653e-01,  4.32843655e-01],\n",
       "       [-3.88029771e-01, -6.22212755e-01],\n",
       "       [ 2.10560882e-01, -6.22212755e-01],\n",
       "       [-3.70488653e-01, -6.22212755e-01],\n",
       "       [-9.41671309e-01, -6.22212755e-01],\n",
       "       [ 1.21369357e+00,  4.32843655e-01],\n",
       "       [-5.17395516e-01, -6.22212755e-01],\n",
       "       [-9.82235145e-01, -6.22212755e-01],\n",
       "       [-2.99227861e-01, -6.22212755e-01],\n",
       "       [ 4.94507731e-01, -6.22212755e-01],\n",
       "       [ 8.71641769e-01,  2.54295648e+00],\n",
       "       [-8.96722194e-01, -6.22212755e-01],\n",
       "       [-2.10425951e-01, -6.22212755e-01],\n",
       "       [-4.26400967e-01,  4.32843655e-01],\n",
       "       [ 9.93434474e-03, -6.22212755e-01],\n",
       "       [ 6.23873476e-01,  1.48790007e+00],\n",
       "       [-5.94137908e-01, -6.22212755e-01],\n",
       "       [ 2.43450479e-01, -6.22212755e-01],\n",
       "       [-1.38568086e+00, -6.22212755e-01],\n",
       "       [-1.87792848e+00, -1.67726916e+00],\n",
       "       [ 9.03435045e-01, -6.22212755e-01],\n",
       "       [-1.04691802e+00, -6.22212755e-01],\n",
       "       [ 1.33757772e+00,  1.48790007e+00],\n",
       "       [-1.41966678e+00, -6.22212755e-01]])"
      ]
     },
     "execution_count": 19,
     "metadata": {},
     "output_type": "execute_result"
    }
   ],
   "source": [
    "num_col=['total_bill','size']\n",
    "std=StandardScaler()\n",
    "X_train_num_tf=std.fit_transform(X_train[num_col])\n",
    "X_train_num_tf"
   ]
  },
  {
   "cell_type": "code",
   "execution_count": 20,
   "id": "32ca30bb",
   "metadata": {},
   "outputs": [
    {
     "data": {
      "text/plain": [
       "array([[ 0.        ,  1.        ,  1.        , ...,  0.        ,\n",
       "         0.73240914,  1.48790007],\n",
       "       [ 0.        ,  1.        ,  0.        , ...,  1.        ,\n",
       "         1.36827467, -0.62221275],\n",
       "       [ 0.        ,  1.        ,  0.        , ...,  0.        ,\n",
       "        -0.25318243, -0.62221275],\n",
       "       ...,\n",
       "       [ 1.        ,  0.        ,  1.        , ...,  1.        ,\n",
       "        -1.04691802, -0.62221275],\n",
       "       [ 0.        ,  1.        ,  1.        , ...,  0.        ,\n",
       "         1.33757772,  1.48790007],\n",
       "       [ 0.        ,  1.        ,  0.        , ...,  0.        ,\n",
       "        -1.41966678, -0.62221275]])"
      ]
     },
     "execution_count": 20,
     "metadata": {},
     "output_type": "execute_result"
    }
   ],
   "source": [
    "X_train_tf=np.hstack((X_train_cat_tf,X_train_num_tf))\n",
    "X_train_tf"
   ]
  },
  {
   "cell_type": "markdown",
   "id": "ba0379ee",
   "metadata": {},
   "source": [
    "**Preparing Testing Data**"
   ]
  },
  {
   "cell_type": "code",
   "execution_count": 21,
   "id": "d7534c6b",
   "metadata": {},
   "outputs": [
    {
     "data": {
      "text/plain": [
       "array([[ 0.        ,  1.        ,  1.        ,  0.        ,  0.        ,\n",
       "         1.        ,  0.        ,  0.        ,  1.        ,  0.        ,\n",
       "        -0.28607202,  0.43284366],\n",
       "       [ 0.        ,  1.        ,  0.        ,  1.        ,  0.        ,\n",
       "         1.        ,  0.        ,  0.        ,  1.        ,  0.        ,\n",
       "        -0.20932963,  1.48790007],\n",
       "       [ 0.        ,  1.        ,  1.        ,  0.        ,  0.        ,\n",
       "         0.        ,  1.        ,  0.        ,  1.        ,  0.        ,\n",
       "        -0.07777125, -0.62221275],\n",
       "       [ 1.        ,  0.        ,  1.        ,  0.        ,  0.        ,\n",
       "         1.        ,  0.        ,  0.        ,  1.        ,  0.        ,\n",
       "        -1.41966678, -1.67726916],\n",
       "       [ 1.        ,  0.        ,  0.        ,  1.        ,  1.        ,\n",
       "         0.        ,  0.        ,  0.        ,  0.        ,  1.        ,\n",
       "        -0.43078625, -0.62221275]])"
      ]
     },
     "execution_count": 21,
     "metadata": {},
     "output_type": "execute_result"
    }
   ],
   "source": [
    "X_test_cat_tf=ohe.transform(X_test[cat_col]).toarray()\n",
    "X_test_num_tf=std.transform(X_test[num_col])\n",
    "X_test_tf=np.hstack((X_test_cat_tf,X_test_num_tf))\n",
    "X_test_tf[:5]"
   ]
  },
  {
   "cell_type": "code",
   "execution_count": 22,
   "id": "491f84e1",
   "metadata": {},
   "outputs": [],
   "source": [
    "import mlflow"
   ]
  },
  {
   "cell_type": "code",
   "execution_count": 23,
   "id": "b87f85bd",
   "metadata": {},
   "outputs": [
    {
     "data": {
      "text/plain": [
       "<Experiment: artifact_location='file:///C:/Users/E Alekhya/mlruns/1', creation_time=1683479927099, experiment_id='1', last_update_time=1683479927099, lifecycle_stage='active', name='Iris Species Prediction', tags={}>"
      ]
     },
     "execution_count": 23,
     "metadata": {},
     "output_type": "execute_result"
    }
   ],
   "source": [
    "mlflow.set_tracking_uri(\"sqlite:///mlflow.db\")\n",
    "mlflow.set_experiment(\"Iris Species Prediction\")"
   ]
  },
  {
   "cell_type": "code",
   "execution_count": 24,
   "id": "d7b93269",
   "metadata": {},
   "outputs": [],
   "source": [
    "from pickle import dump\n",
    "\n",
    "dump(std, open('models/std.pkl', 'wb'))"
   ]
  },
  {
   "cell_type": "code",
   "execution_count": 25,
   "id": "0c39cc65",
   "metadata": {},
   "outputs": [],
   "source": [
    "from sklearn.metrics import mean_squared_error, mean_absolute_percentage_error\n",
    "from sklearn.linear_model import LinearRegression\n",
    "from sklearn.tree import DecisionTreeRegressor\n",
    "from sklearn.ensemble import RandomForestRegressor\n",
    "from sklearn.svm import SVR\n",
    "from sklearn.ensemble import GradientBoostingRegressor\n",
    "from sklearn.ensemble import AdaBoostRegressor"
   ]
  },
  {
   "cell_type": "code",
   "execution_count": 26,
   "id": "484ff93b",
   "metadata": {},
   "outputs": [
    {
     "name": "stderr",
     "output_type": "stream",
     "text": [
      "C:\\Users\\E Alekhya\\anaconda3\\lib\\site-packages\\_distutils_hack\\__init__.py:33: UserWarning: Setuptools is replacing distutils.\n",
      "  warnings.warn(\"Setuptools is replacing distutils.\")\n"
     ]
    }
   ],
   "source": [
    "with mlflow.start_run():\n",
    "    mlflow.set_tag(\"dev\", \"Alekhya\")\n",
    "    mlflow.set_tag(\"algo\", \"LinearRegression\")\n",
    "    # log the data for each run using log_param, log_metric, log_model\n",
    "    mlflow.log_param(\"data-path\", \"data/tips.csv\")\n",
    "    lr=LinearRegression()\n",
    "    lr.fit(X_train_tf, y_train)\n",
    "    y_test_pred=lr.predict(X_test_tf)\n",
    "    mse=mean_squared_error(y_test,y_test_pred).round(4)\n",
    "    rmse=np.sqrt(mse).round(4)\n",
    "    mlflow.log_metric(\"RMSE\", rmse)\n",
    "    mlflow.sklearn.log_model(lr, artifact_path=\"models\")\n",
    "    mlflow.log_artifact(\"models/std.pkl\")"
   ]
  },
  {
   "cell_type": "code",
   "execution_count": 27,
   "id": "fe464665",
   "metadata": {},
   "outputs": [],
   "source": [
    "with mlflow.start_run():\n",
    "    mlflow.set_tag(\"dev\", \"Alekhya\")\n",
    "    mlflow.set_tag(\"algo\", \"DecisionTree\")\n",
    "    # log the data for each run using log_param, log_metric, log_model\n",
    "    mlflow.log_param(\"data-path\", \"data/tips.csv\")\n",
    "    dt=DecisionTreeRegressor(random_state=0)\n",
    "    dt.fit(X_train_tf,y_train)\n",
    "    y_test_pred=dt.predict(X_test_tf)\n",
    "    mse=mean_squared_error(y_test,y_test_pred).round(4)\n",
    "    rmse=np.sqrt(mse).round(4)\n",
    "    mlflow.log_metric(\"RMSE\", rmse)\n",
    "    mlflow.sklearn.log_model(lr, artifact_path=\"models\")\n",
    "    mlflow.log_artifact(\"models/std.pkl\")"
   ]
  },
  {
   "cell_type": "code",
   "execution_count": 28,
   "id": "26b1d213",
   "metadata": {},
   "outputs": [],
   "source": [
    "with mlflow.start_run():\n",
    "    mlflow.set_tag(\"dev\", \"Alekhya\")\n",
    "    mlflow.set_tag(\"algo\", \"SVM\")\n",
    "    # log the data for each run using log_param, log_metric, log_model\n",
    "    mlflow.log_param(\"data-path\", \"data/tips.csv\")\n",
    "    svr=SVR()\n",
    "    svr.fit(X_train_tf,y_train)\n",
    "    y_test_pred=svr.predict(X_test_tf)\n",
    "    mse=mean_squared_error(y_test,y_test_pred).round(4)\n",
    "    rmse=np.sqrt(mse).round(4)\n",
    "    mlflow.log_metric(\"RMSE\", rmse)\n",
    "    mlflow.sklearn.log_model(lr, artifact_path=\"models\")\n",
    "    mlflow.log_artifact(\"models/std.pkl\")"
   ]
  },
  {
   "cell_type": "code",
   "execution_count": 29,
   "id": "9c8f7332",
   "metadata": {},
   "outputs": [],
   "source": [
    "with mlflow.start_run():\n",
    "    mlflow.set_tag(\"dev\", \"Alekhya\")\n",
    "    mlflow.set_tag(\"algo\", \"GradientBoost\")\n",
    "    # log the data for each run using log_param, log_metric, log_model\n",
    "    mlflow.log_param(\"data-path\", \"data/tips.csv\")\n",
    "    grb= GradientBoostingRegressor(n_estimators =100,random_state =0) \n",
    "    grb.fit(X_train_tf, y_train) \n",
    "    y_test_pred = grb.predict(X_test_tf)\n",
    "    mse=mean_squared_error(y_test,y_test_pred).round(4)\n",
    "    rmse=np.sqrt(mse).round(4)\n",
    "    mlflow.log_metric(\"RMSE\", rmse)\n",
    "    mlflow.sklearn.log_model(lr, artifact_path=\"models\")\n",
    "    mlflow.log_artifact(\"models/std.pkl\")"
   ]
  },
  {
   "cell_type": "code",
   "execution_count": 30,
   "id": "f66ff800",
   "metadata": {},
   "outputs": [],
   "source": [
    "with mlflow.start_run():\n",
    "    mlflow.set_tag(\"dev\", \"Alekhya\")\n",
    "    mlflow.set_tag(\"algo\", \"RandomForest\")\n",
    "    # log the data for each run using log_param, log_metric, log_model\n",
    "    mlflow.log_param(\"data-path\", \"data/tips.csv\")\n",
    "    rf=RandomForestRegressor(n_estimators=100)\n",
    "    rf.fit(X_train_tf,y_train)\n",
    "    y_test_pred=rf.predict(X_test_tf)\n",
    "    mse=mean_squared_error(y_test,y_test_pred).round(4)\n",
    "    rmse=np.sqrt(mse).round(4)\n",
    "    mlflow.log_metric(\"RMSE\", rmse)\n",
    "    mlflow.sklearn.log_model(lr, artifact_path=\"models\")\n",
    "    mlflow.log_artifact(\"models/std.pkl\")"
   ]
  },
  {
   "cell_type": "code",
   "execution_count": 31,
   "id": "2a77ae02",
   "metadata": {},
   "outputs": [],
   "source": [
    "with mlflow.start_run():\n",
    "    mlflow.set_tag(\"dev\", \"Alekhya\")\n",
    "    mlflow.set_tag(\"algo\", \"AdaBoost\")\n",
    "    # log the data for each run using log_param, log_metric, log_model\n",
    "    mlflow.log_param(\"data-path\", \"data/tips.csv\")\n",
    "    ada=AdaBoostRegressor(n_estimators=100,learning_rate=0.001,random_state=0)\n",
    "    ada.fit(X_train_tf,y_train)\n",
    "    y_test_pred=ada.predict(X_test_tf)\n",
    "    mse=mean_squared_error(y_test,y_test_pred).round(4)\n",
    "    rmse=np.sqrt(mse).round(4)\n",
    "    mlflow.log_metric(\"RMSE\", rmse)\n",
    "    mlflow.sklearn.log_model(lr, artifact_path=\"models\")\n",
    "    mlflow.log_artifact(\"models/std.pkl\")"
   ]
  },
  {
   "cell_type": "code",
   "execution_count": null,
   "id": "4d71bd2e",
   "metadata": {},
   "outputs": [],
   "source": []
  }
 ],
 "metadata": {
  "kernelspec": {
   "display_name": "Python 3 (ipykernel)",
   "language": "python",
   "name": "python3"
  },
  "language_info": {
   "codemirror_mode": {
    "name": "ipython",
    "version": 3
   },
   "file_extension": ".py",
   "mimetype": "text/x-python",
   "name": "python",
   "nbconvert_exporter": "python",
   "pygments_lexer": "ipython3",
   "version": "3.9.13"
  }
 },
 "nbformat": 4,
 "nbformat_minor": 5
}
